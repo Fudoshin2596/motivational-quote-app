{
 "cells": [
  {
   "cell_type": "code",
   "execution_count": 31,
   "metadata": {
    "collapsed": true
   },
   "outputs": [],
   "source": [
    "import joblib\n",
    "import matplotlib.pyplot as plt\n",
    "import numpy as np\n",
    "import pandas as pd\n",
    "import seaborn as sns\n",
    "from nltk.stem.porter import *\n",
    "\n",
    "% matplotlib inline\n",
    "from sklearn.feature_extraction.text import ENGLISH_STOP_WORDS, TfidfVectorizer\n",
    "from sklearn.pipeline import Pipeline\n",
    "from sklearn import metrics\n",
    "from sklearn.metrics import confusion_matrix\n",
    "from sklearn.model_selection import train_test_split\n",
    "from sklearn.svm import LinearSVC\n",
    "\n",
    "import gc\n",
    "\n",
    "import warnings\n",
    "\n",
    "warnings.filterwarnings(\"ignore\", category=DeprecationWarning)"
   ]
  },
  {
   "cell_type": "code",
   "execution_count": 21,
   "outputs": [],
   "source": [
    "data_path = 'data/balanced_quotes_clean.csv'"
   ],
   "metadata": {
    "collapsed": false
   }
  },
  {
   "cell_type": "code",
   "execution_count": 6,
   "outputs": [
    {
     "data": {
      "text/plain": "                                               quote     label\n0  Organized religion is a sham and a crutch for ...  personal\n1  The wisdom and experience of older people is a...  personal\n2  Regularity in the hours of rising and retiring...  personal\n3  Miracles in the sense of phenomena we cannot e...  personal\n4  The U.S. states that allow for citizens initia...  personal",
      "text/html": "<div>\n<style scoped>\n    .dataframe tbody tr th:only-of-type {\n        vertical-align: middle;\n    }\n\n    .dataframe tbody tr th {\n        vertical-align: top;\n    }\n\n    .dataframe thead th {\n        text-align: right;\n    }\n</style>\n<table border=\"1\" class=\"dataframe\">\n  <thead>\n    <tr style=\"text-align: right;\">\n      <th></th>\n      <th>quote</th>\n      <th>label</th>\n    </tr>\n  </thead>\n  <tbody>\n    <tr>\n      <th>0</th>\n      <td>Organized religion is a sham and a crutch for ...</td>\n      <td>personal</td>\n    </tr>\n    <tr>\n      <th>1</th>\n      <td>The wisdom and experience of older people is a...</td>\n      <td>personal</td>\n    </tr>\n    <tr>\n      <th>2</th>\n      <td>Regularity in the hours of rising and retiring...</td>\n      <td>personal</td>\n    </tr>\n    <tr>\n      <th>3</th>\n      <td>Miracles in the sense of phenomena we cannot e...</td>\n      <td>personal</td>\n    </tr>\n    <tr>\n      <th>4</th>\n      <td>The U.S. states that allow for citizens initia...</td>\n      <td>personal</td>\n    </tr>\n  </tbody>\n</table>\n</div>"
     },
     "execution_count": 6,
     "metadata": {},
     "output_type": "execute_result"
    }
   ],
   "source": [
    "# read the dataset\n",
    "df = pd.read_csv(data_path)\n",
    "# view the top rows\n",
    "df.head()"
   ],
   "metadata": {
    "collapsed": false
   }
  },
  {
   "cell_type": "code",
   "execution_count": 7,
   "outputs": [],
   "source": [
    "def remove_pattern(input_txt, pattern):\n",
    "    r = re.findall(pattern, input_txt)\n",
    "    for i in r:\n",
    "        input_txt = re.sub(i, '', input_txt)\n",
    "    return input_txt"
   ],
   "metadata": {
    "collapsed": false
   }
  },
  {
   "cell_type": "code",
   "execution_count": 12,
   "outputs": [
    {
     "name": "stderr",
     "output_type": "stream",
     "text": [
      "/var/folders/hm/s_yl7r210ys8ncbf6rq8kbnm0000gp/T/ipykernel_7680/3409696169.py:5: FutureWarning: The default value of regex will change from True to False in a future version.\n",
      "  df['tidy_quote'] = df['tidy_quote'].str.replace(\"[^a-zA-Z#]\", \" \")\n"
     ]
    },
    {
     "data": {
      "text/plain": "14"
     },
     "execution_count": 12,
     "metadata": {},
     "output_type": "execute_result"
    }
   ],
   "source": [
    "# remove any handles (@user)\n",
    "df['tidy_quote'] = np.vectorize(remove_pattern)(df['quote'], \"@[\\w]*\")\n",
    "\n",
    "# remove special characters, numbers, punctuations\n",
    "df['tidy_quote'] = df['tidy_quote'].str.replace(\"[^a-zA-Z#]\", \" \")\n",
    "\n",
    "df['tidy_quote'] = df['tidy_quote'].apply(lambda x: ' '.join([w for w in x.split() if len(w) > 3]))\n",
    "\n",
    "tokenized_quote = df['tidy_quote'].apply(lambda x: x.split())\n",
    "\n",
    "for i in range(len(tokenized_quote)):\n",
    "    tokenized_quote[i] = ' '.join(tokenized_quote[i])\n",
    "\n",
    "df['quote'] = tokenized_quote\n",
    "del df['tidy_quote']\n",
    "gc.collect()"
   ],
   "metadata": {
    "collapsed": false
   }
  },
  {
   "cell_type": "code",
   "execution_count": 13,
   "outputs": [
    {
     "data": {
      "text/plain": "                                               quote     label\n0  Organized religion sham crutch weak minded peo...  personal\n1  wisdom experience older people resource inesti...  personal\n2  Regularity hours rising retiring perseverance ...  personal\n3  Miracles sense phenomena cannot explain surrou...  personal\n4  states that allow citizens initiatives tend ha...  personal",
      "text/html": "<div>\n<style scoped>\n    .dataframe tbody tr th:only-of-type {\n        vertical-align: middle;\n    }\n\n    .dataframe tbody tr th {\n        vertical-align: top;\n    }\n\n    .dataframe thead th {\n        text-align: right;\n    }\n</style>\n<table border=\"1\" class=\"dataframe\">\n  <thead>\n    <tr style=\"text-align: right;\">\n      <th></th>\n      <th>quote</th>\n      <th>label</th>\n    </tr>\n  </thead>\n  <tbody>\n    <tr>\n      <th>0</th>\n      <td>Organized religion sham crutch weak minded peo...</td>\n      <td>personal</td>\n    </tr>\n    <tr>\n      <th>1</th>\n      <td>wisdom experience older people resource inesti...</td>\n      <td>personal</td>\n    </tr>\n    <tr>\n      <th>2</th>\n      <td>Regularity hours rising retiring perseverance ...</td>\n      <td>personal</td>\n    </tr>\n    <tr>\n      <th>3</th>\n      <td>Miracles sense phenomena cannot explain surrou...</td>\n      <td>personal</td>\n    </tr>\n    <tr>\n      <th>4</th>\n      <td>states that allow citizens initiatives tend ha...</td>\n      <td>personal</td>\n    </tr>\n  </tbody>\n</table>\n</div>"
     },
     "execution_count": 13,
     "metadata": {},
     "output_type": "execute_result"
    }
   ],
   "source": [
    "df.head()"
   ],
   "metadata": {
    "collapsed": false
   }
  },
  {
   "cell_type": "code",
   "execution_count": 14,
   "outputs": [
    {
     "data": {
      "text/plain": "                                                   quote      label  \\\n42025  really lasted whole game because really untouc...  emotional   \n42026  beginning there word word word make what good ...  emotional   \n42027  best artist that thought alone Which contained...  emotional   \n42028  California crunch really result enough power g...  emotional   \n42029  have really amazing club contemporary little s...  emotional   \n\n       category_id  \n42025            4  \n42026            4  \n42027            4  \n42028            4  \n42029            4  ",
      "text/html": "<div>\n<style scoped>\n    .dataframe tbody tr th:only-of-type {\n        vertical-align: middle;\n    }\n\n    .dataframe tbody tr th {\n        vertical-align: top;\n    }\n\n    .dataframe thead th {\n        text-align: right;\n    }\n</style>\n<table border=\"1\" class=\"dataframe\">\n  <thead>\n    <tr style=\"text-align: right;\">\n      <th></th>\n      <th>quote</th>\n      <th>label</th>\n      <th>category_id</th>\n    </tr>\n  </thead>\n  <tbody>\n    <tr>\n      <th>42025</th>\n      <td>really lasted whole game because really untouc...</td>\n      <td>emotional</td>\n      <td>4</td>\n    </tr>\n    <tr>\n      <th>42026</th>\n      <td>beginning there word word word make what good ...</td>\n      <td>emotional</td>\n      <td>4</td>\n    </tr>\n    <tr>\n      <th>42027</th>\n      <td>best artist that thought alone Which contained...</td>\n      <td>emotional</td>\n      <td>4</td>\n    </tr>\n    <tr>\n      <th>42028</th>\n      <td>California crunch really result enough power g...</td>\n      <td>emotional</td>\n      <td>4</td>\n    </tr>\n    <tr>\n      <th>42029</th>\n      <td>have really amazing club contemporary little s...</td>\n      <td>emotional</td>\n      <td>4</td>\n    </tr>\n  </tbody>\n</table>\n</div>"
     },
     "execution_count": 14,
     "metadata": {},
     "output_type": "execute_result"
    }
   ],
   "source": [
    "df['category_id'] = df['label'].factorize()[0]\n",
    "category_id_df = df[['label', 'category_id']].drop_duplicates().sort_values('category_id')\n",
    "category_to_id = dict(category_id_df.values)\n",
    "id_to_category = dict(category_id_df[['category_id', 'label']].values)\n",
    "df.tail()"
   ],
   "metadata": {
    "collapsed": false
   }
  },
  {
   "cell_type": "code",
   "execution_count": 15,
   "outputs": [
    {
     "data": {
      "text/plain": "['personal', 'thoughtful', 'work', 'aspirations', 'emotional']"
     },
     "execution_count": 15,
     "metadata": {},
     "output_type": "execute_result"
    }
   ],
   "source": [
    "label_to_ix = {}\n",
    "for label in df.label:\n",
    "    for word in label.split():\n",
    "        if word not in label_to_ix:\n",
    "            label_to_ix[word] = len(label_to_ix)\n",
    "labels_text = list(label_to_ix.keys())\n",
    "num_labels = len(labels_text)\n",
    "labels_text"
   ],
   "metadata": {
    "collapsed": false
   }
  },
  {
   "cell_type": "code",
   "execution_count": 19,
   "outputs": [
    {
     "data": {
      "text/plain": "(42030, 1284)"
     },
     "execution_count": 19,
     "metadata": {},
     "output_type": "execute_result"
    }
   ],
   "source": [
    "tfidf = TfidfVectorizer(lowercase=True, sublinear_tf=True, min_df=56, norm='l2', encoding='latin-1', ngram_range=(1, 2),\n",
    "                        stop_words=list(ENGLISH_STOP_WORDS))\n",
    "\n",
    "features = tfidf.fit_transform(df.quote).toarray()\n",
    "labels = df.category_id\n",
    "features.shape"
   ],
   "metadata": {
    "collapsed": false
   }
  },
  {
   "cell_type": "code",
   "execution_count": 22,
   "outputs": [
    {
     "data": {
      "text/plain": "<Figure size 1000x1000 with 2 Axes>",
      "image/png": "[encoded data removed]"
     },
     "metadata": {},
     "output_type": "display_data"
    }
   ],
   "source": [
    "model = LinearSVC()\n",
    "\n",
    "X_train, X_test, y_train, y_test, indices_train, indices_test = train_test_split(features, labels, df.index,\n",
    "                                                                                 test_size=0.33, random_state=0)\n",
    "\n",
    "model.fit(X_train, y_train)\n",
    "y_pred = model.predict(X_test)\n",
    "\n",
    "conf_mat = confusion_matrix(y_test, y_pred)\n",
    "fig, ax = plt.subplots(figsize=(10, 10))\n",
    "sns.heatmap(conf_mat, annot=True, fmt='d',\n",
    "            xticklabels=category_id_df.label.values, yticklabels=category_id_df.label.values)\n",
    "plt.ylabel('Actual')\n",
    "plt.xlabel('Predicted')\n",
    "plt.show()"
   ],
   "metadata": {
    "collapsed": false
   }
  },
  {
   "cell_type": "code",
   "execution_count": 25,
   "outputs": [
    {
     "name": "stdout",
     "output_type": "stream",
     "text": [
      "              precision    recall  f1-score   support\n",
      "\n",
      "    personal       0.85      0.85      0.85      2773\n",
      "  thoughtful       0.87      0.87      0.87      2727\n",
      "        work       0.87      0.90      0.88      2806\n",
      " aspirations       0.85      0.83      0.84      2784\n",
      "   emotional       0.84      0.83      0.83      2780\n",
      "\n",
      "    accuracy                           0.86     13870\n",
      "   macro avg       0.86      0.86      0.86     13870\n",
      "weighted avg       0.86      0.86      0.86     13870\n",
      "\n"
     ]
    }
   ],
   "source": [
    "print(metrics.classification_report(y_test, y_pred, target_names=df['label'].unique()))"
   ],
   "metadata": {
    "collapsed": false
   }
  },
  {
   "cell_type": "code",
   "execution_count": 26,
   "outputs": [
    {
     "data": {
      "text/plain": "((33624, 3), (8406, 3))"
     },
     "execution_count": 26,
     "metadata": {},
     "output_type": "execute_result"
    }
   ],
   "source": [
    "# train test split\n",
    "train, test = train_test_split(df, test_size=0.2, stratify=df['category_id'], random_state=21)\n",
    "\n",
    "# get the shape of train and test split.\n",
    "train.shape, test.shape"
   ],
   "metadata": {
    "collapsed": false
   }
  },
  {
   "cell_type": "code",
   "execution_count": 33,
   "outputs": [
    {
     "data": {
      "text/plain": "Pipeline(steps=[('tfidf',\n                 TfidfVectorizer(encoding='latin-1', min_df=56,\n                                 ngram_range=(1, 2),\n                                 stop_words=['off', 'one', 'so', 'why', 'is',\n                                             'therefore', 'as', 'even',\n                                             'between', 'hundred', 'anything',\n                                             'once', 'everywhere', 'toward',\n                                             'through', 'anywhere', 'always',\n                                             'however', 'mostly', 'will', 'him',\n                                             'via', 'five', 'therein',\n                                             'everything', 'onto', 'herein',\n                                             'thence', 'next', 'should', ...],\n                                 sublinear_tf=True)),\n                ('model', LinearSVC())])",
      "text/html": "<style>#sk-container-id-1 {color: black;background-color: white;}#sk-container-id-1 pre{padding: 0;}#sk-container-id-1 div.sk-toggleable {background-color: white;}#sk-container-id-1 label.sk-toggleable__label {cursor: pointer;display: block;width: 100%;margin-bottom: 0;padding: 0.3em;box-sizing: border-box;text-align: center;}#sk-container-id-1 label.sk-toggleable__label-arrow:before {content: \"▸\";float: left;margin-right: 0.25em;color: #696969;}#sk-container-id-1 label.sk-toggleable__label-arrow:hover:before {color: black;}#sk-container-id-1 div.sk-estimator:hover label.sk-toggleable__label-arrow:before {color: black;}#sk-container-id-1 div.sk-toggleable__content {max-height: 0;max-width: 0;overflow: hidden;text-align: left;background-color: #f0f8ff;}#sk-container-id-1 div.sk-toggleable__content pre {margin: 0.2em;color: black;border-radius: 0.25em;background-color: #f0f8ff;}#sk-container-id-1 input.sk-toggleable__control:checked~div.sk-toggleable__content {max-height: 200px;max-width: 100%;overflow: auto;}#sk-container-id-1 input.sk-toggleable__control:checked~label.sk-toggleable__label-arrow:before {content: \"▾\";}#sk-container-id-1 div.sk-estimator input.sk-toggleable__control:checked~label.sk-toggleable__label {background-color: #d4ebff;}#sk-container-id-1 div.sk-label input.sk-toggleable__control:checked~label.sk-toggleable__label {background-color: #d4ebff;}#sk-container-id-1 input.sk-hidden--visually {border: 0;clip: rect(1px 1px 1px 1px);clip: rect(1px, 1px, 1px, 1px);height: 1px;margin: -1px;overflow: hidden;padding: 0;position: absolute;width: 1px;}#sk-container-id-1 div.sk-estimator {font-family: monospace;background-color: #f0f8ff;border: 1px dotted black;border-radius: 0.25em;box-sizing: border-box;margin-bottom: 0.5em;}#sk-container-id-1 div.sk-estimator:hover {background-color: #d4ebff;}#sk-container-id-1 div.sk-parallel-item::after {content: \"\";width: 100%;border-bottom: 1px solid gray;flex-grow: 1;}#sk-container-id-1 div.sk-label:hover label.sk-toggleable__label {background-color: #d4ebff;}#sk-container-id-1 div.sk-serial::before {content: \"\";position: absolute;border-left: 1px solid gray;box-sizing: border-box;top: 0;bottom: 0;left: 50%;z-index: 0;}#sk-container-id-1 div.sk-serial {display: flex;flex-direction: column;align-items: center;background-color: white;padding-right: 0.2em;padding-left: 0.2em;position: relative;}#sk-container-id-1 div.sk-item {position: relative;z-index: 1;}#sk-container-id-1 div.sk-parallel {display: flex;align-items: stretch;justify-content: center;background-color: white;position: relative;}#sk-container-id-1 div.sk-item::before, #sk-container-id-1 div.sk-parallel-item::before {content: \"\";position: absolute;border-left: 1px solid gray;box-sizing: border-box;top: 0;bottom: 0;left: 50%;z-index: -1;}#sk-container-id-1 div.sk-parallel-item {display: flex;flex-direction: column;z-index: 1;position: relative;background-color: white;}#sk-container-id-1 div.sk-parallel-item:first-child::after {align-self: flex-end;width: 50%;}#sk-container-id-1 div.sk-parallel-item:last-child::after {align-self: flex-start;width: 50%;}#sk-container-id-1 div.sk-parallel-item:only-child::after {width: 0;}#sk-container-id-1 div.sk-dashed-wrapped {border: 1px dashed gray;margin: 0 0.4em 0.5em 0.4em;box-sizing: border-box;padding-bottom: 0.4em;background-color: white;}#sk-container-id-1 div.sk-label label {font-family: monospace;font-weight: bold;display: inline-block;line-height: 1.2em;}#sk-container-id-1 div.sk-label-container {text-align: center;}#sk-container-id-1 div.sk-container {/* jupyter's `normalize.less` sets `[hidden] { display: none; }` but bootstrap.min.css set `[hidden] { display: none !important; }` so we also need the `!important` here to be able to override the default hidden behavior on the sphinx rendered scikit-learn.org. See: https://github.com/scikit-learn/scikit-learn/issues/21755 */display: inline-block !important;position: relative;}#sk-container-id-1 div.sk-text-repr-fallback {display: none;}</style><div id=\"sk-container-id-1\" class=\"sk-top-container\"><div class=\"sk-text-repr-fallback\"><pre>Pipeline(steps=[(&#x27;tfidf&#x27;,\n                 TfidfVectorizer(encoding=&#x27;latin-1&#x27;, min_df=56,\n                                 ngram_range=(1, 2),\n                                 stop_words=[&#x27;off&#x27;, &#x27;one&#x27;, &#x27;so&#x27;, &#x27;why&#x27;, &#x27;is&#x27;,\n                                             &#x27;therefore&#x27;, &#x27;as&#x27;, &#x27;even&#x27;,\n                                             &#x27;between&#x27;, &#x27;hundred&#x27;, &#x27;anything&#x27;,\n                                             &#x27;once&#x27;, &#x27;everywhere&#x27;, &#x27;toward&#x27;,\n                                             &#x27;through&#x27;, &#x27;anywhere&#x27;, &#x27;always&#x27;,\n                                             &#x27;however&#x27;, &#x27;mostly&#x27;, &#x27;will&#x27;, &#x27;him&#x27;,\n                                             &#x27;via&#x27;, &#x27;five&#x27;, &#x27;therein&#x27;,\n                                             &#x27;everything&#x27;, &#x27;onto&#x27;, &#x27;herein&#x27;,\n                                             &#x27;thence&#x27;, &#x27;next&#x27;, &#x27;should&#x27;, ...],\n                                 sublinear_tf=True)),\n                (&#x27;model&#x27;, LinearSVC())])</pre><b>In a Jupyter environment, please rerun this cell to show the HTML representation or trust the notebook. <br />On GitHub, the HTML representation is unable to render, please try loading this page with nbviewer.org.</b></div><div class=\"sk-container\" hidden><div class=\"sk-item sk-dashed-wrapped\"><div class=\"sk-label-container\"><div class=\"sk-label sk-toggleable\"><input class=\"sk-toggleable__control sk-hidden--visually\" id=\"sk-estimator-id-1\" type=\"checkbox\" ><label for=\"sk-estimator-id-1\" class=\"sk-toggleable__label sk-toggleable__label-arrow\">Pipeline</label><div class=\"sk-toggleable__content\"><pre>Pipeline(steps=[(&#x27;tfidf&#x27;,\n                 TfidfVectorizer(encoding=&#x27;latin-1&#x27;, min_df=56,\n                                 ngram_range=(1, 2),\n                                 stop_words=[&#x27;off&#x27;, &#x27;one&#x27;, &#x27;so&#x27;, &#x27;why&#x27;, &#x27;is&#x27;,\n                                             &#x27;therefore&#x27;, &#x27;as&#x27;, &#x27;even&#x27;,\n                                             &#x27;between&#x27;, &#x27;hundred&#x27;, &#x27;anything&#x27;,\n                                             &#x27;once&#x27;, &#x27;everywhere&#x27;, &#x27;toward&#x27;,\n                                             &#x27;through&#x27;, &#x27;anywhere&#x27;, &#x27;always&#x27;,\n                                             &#x27;however&#x27;, &#x27;mostly&#x27;, &#x27;will&#x27;, &#x27;him&#x27;,\n                                             &#x27;via&#x27;, &#x27;five&#x27;, &#x27;therein&#x27;,\n                                             &#x27;everything&#x27;, &#x27;onto&#x27;, &#x27;herein&#x27;,\n                                             &#x27;thence&#x27;, &#x27;next&#x27;, &#x27;should&#x27;, ...],\n                                 sublinear_tf=True)),\n                (&#x27;model&#x27;, LinearSVC())])</pre></div></div></div><div class=\"sk-serial\"><div class=\"sk-item\"><div class=\"sk-estimator sk-toggleable\"><input class=\"sk-toggleable__control sk-hidden--visually\" id=\"sk-estimator-id-2\" type=\"checkbox\" ><label for=\"sk-estimator-id-2\" class=\"sk-toggleable__label sk-toggleable__label-arrow\">TfidfVectorizer</label><div class=\"sk-toggleable__content\"><pre>TfidfVectorizer(encoding=&#x27;latin-1&#x27;, min_df=56, ngram_range=(1, 2),\n                stop_words=[&#x27;off&#x27;, &#x27;one&#x27;, &#x27;so&#x27;, &#x27;why&#x27;, &#x27;is&#x27;, &#x27;therefore&#x27;, &#x27;as&#x27;,\n                            &#x27;even&#x27;, &#x27;between&#x27;, &#x27;hundred&#x27;, &#x27;anything&#x27;, &#x27;once&#x27;,\n                            &#x27;everywhere&#x27;, &#x27;toward&#x27;, &#x27;through&#x27;, &#x27;anywhere&#x27;,\n                            &#x27;always&#x27;, &#x27;however&#x27;, &#x27;mostly&#x27;, &#x27;will&#x27;, &#x27;him&#x27;, &#x27;via&#x27;,\n                            &#x27;five&#x27;, &#x27;therein&#x27;, &#x27;everything&#x27;, &#x27;onto&#x27;, &#x27;herein&#x27;,\n                            &#x27;thence&#x27;, &#x27;next&#x27;, &#x27;should&#x27;, ...],\n                sublinear_tf=True)</pre></div></div></div><div class=\"sk-item\"><div class=\"sk-estimator sk-toggleable\"><input class=\"sk-toggleable__control sk-hidden--visually\" id=\"sk-estimator-id-3\" type=\"checkbox\" ><label for=\"sk-estimator-id-3\" class=\"sk-toggleable__label sk-toggleable__label-arrow\">LinearSVC</label><div class=\"sk-toggleable__content\"><pre>LinearSVC()</pre></div></div></div></div></div></div></div>"
     },
     "execution_count": 33,
     "metadata": {},
     "output_type": "execute_result"
    }
   ],
   "source": [
    "# define the stages of the pipeline\n",
    "pipeline = Pipeline(steps=[('tfidf', TfidfVectorizer(sublinear_tf=True, min_df=56, norm='l2',\n",
    "                                                     encoding='latin-1', ngram_range=(1, 2),\n",
    "                                                     stop_words=list(ENGLISH_STOP_WORDS))),\n",
    "                           ('model', LinearSVC())])\n",
    "\n",
    "# fit the pipeline model with the training data\n",
    "pipeline.fit(train.quote, train.category_id)"
   ],
   "metadata": {
    "collapsed": false
   }
  },
  {
   "cell_type": "code",
   "execution_count": 34,
   "outputs": [
    {
     "name": "stdout",
     "output_type": "stream",
     "text": [
      "emotional\n"
     ]
    }
   ],
   "source": [
    "quote = ['amazing performer Very temperamental spent time trailer']\n",
    "\n",
    "# predict the label using the pipeline\n",
    "ans = pipeline.predict(quote)\n",
    "print(labels_text[int(ans)])"
   ],
   "metadata": {
    "collapsed": false
   }
  },
  {
   "cell_type": "code",
   "execution_count": 35,
   "outputs": [
    {
     "data": {
      "text/plain": "['model/text_classification.pkl']"
     },
     "execution_count": 35,
     "metadata": {},
     "output_type": "execute_result"
    }
   ],
   "source": [
    "# dump the pipeline model\n",
    "joblib.dump(pipeline, 'model/text_classification.pkl')"
   ],
   "metadata": {
    "collapsed": false
   }
  },
  {
   "cell_type": "code",
   "execution_count": 37,
   "outputs": [
    {
     "data": {
      "text/plain": "'thoughtful'"
     },
     "execution_count": 37,
     "metadata": {},
     "output_type": "execute_result"
    }
   ],
   "source": [
    "# sample tweet text\n",
    "quote = [\n",
    "    'want talk about intelligence matters will however that intelligence community estimates should become public this city Congress']\n",
    "\n",
    "modelp = open('model/text_classification.pkl', 'rb')\n",
    "pipeline = joblib.load(modelp)\n",
    "\n",
    "\n",
    "def predict(pipeline, quote):\n",
    "    # predict on the sample tweet text\n",
    "    ans = pipeline.predict(quote)\n",
    "    return labels_text[int(ans)]\n",
    "\n",
    "\n",
    "resp = predict(pipeline, quote)\n",
    "resp"
   ],
   "metadata": {
    "collapsed": false
   }
  },
  {
   "cell_type": "code",
   "execution_count": null,
   "outputs": [],
   "source": [],
   "metadata": {
    "collapsed": false
   }
  }
 ],
 "metadata": {
  "kernelspec": {
   "display_name": "Python 3",
   "language": "python",
   "name": "python3"
  },
  "language_info": {
   "codemirror_mode": {
    "name": "ipython",
    "version": 2
   },
   "file_extension": ".py",
   "mimetype": "text/x-python",
   "name": "python",
   "nbconvert_exporter": "python",
   "pygments_lexer": "ipython2",
   "version": "2.7.6"
  }
 },
 "nbformat": 4,
 "nbformat_minor": 0
}
